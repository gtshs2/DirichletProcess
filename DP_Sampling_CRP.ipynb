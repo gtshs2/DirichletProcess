{
 "cells": [
  {
   "cell_type": "code",
   "execution_count": 2,
   "metadata": {
    "collapsed": false
   },
   "outputs": [
    {
     "data": {
      "image/png": "[encoded data removed]",
      "text/plain": [
       "<matplotlib.figure.Figure at 0x36594a8>"
      ]
     },
     "metadata": {},
     "output_type": "display_data"
    }
   ],
   "source": [
    "# DP sampling with CRP\n",
    "# Fully influenced by Yee Whye Teh (http://www.stats.ox.ac.uk/~teh/npbayes.html)\n",
    "\n",
    "import numpy as np\n",
    "import matplotlib.pyplot as plt\n",
    "import os\n",
    "%matplotlib inline\n",
    "\n",
    "alpha = 10 # DP Parameter\n",
    "num_guest = 100 # Number of Guest at Chinese Restaurnat\n",
    "\n",
    "num_per_table = [1] # number of customer for each table\n",
    "prob_per_guest = [] # probability of cutomer to sit for each able\n",
    "guest_allocation = np.zeros(num_guest) # allocated table for each guest\n",
    "guest_allocation[0] = 1 # First Customer sit at zero-th Table\n",
    "num_allocated_table = np.zeros(num_guest) # number of table when i-th guest arrive and are allocated\n",
    "num_allocated_table[0] = 1 # First Customer sit at zero-th Table\n",
    "num_table = 0 # allocated table\n",
    "\n",
    "for guest in range(1,num_guest):\n",
    "    prob_per_guest = num_per_table[:]\n",
    "    prob_per_guest.append(alpha)\n",
    "    random_number = np.random.uniform(0,1)\n",
    "    # Sampling based on the probaiblity [number of guest for each table , alpha]\n",
    "    guest_allocation[guest] = sum([1 for itr in range(len(np.cumsum(prob_per_guest))) if  random_number*sum(prob_per_guest) > np.cumsum(prob_per_guest)[itr] ])\n",
    "\n",
    "    if guest_allocation[guest] <=  num_table:\n",
    "        num_per_table[int(guest_allocation[guest])] = num_per_table[int(guest_allocation[guest])] + 1\n",
    "    else:\n",
    "        num_per_table.append(1)\n",
    "        num_table = num_table + 1\n",
    "    num_allocated_table[guest] = num_table\n",
    "\n",
    "plt.plot(num_allocated_table)\n",
    "plt.scatter(np.linspace(0,num_guest,num=num_guest-1+1),guest_allocation)\n",
    "plt.show()\n",
    "        \n",
    "    \n",
    "    "
   ]
  },
  {
   "cell_type": "code",
   "execution_count": null,
   "metadata": {
    "collapsed": false
   },
   "outputs": [],
   "source": []
  },
  {
   "cell_type": "code",
   "execution_count": null,
   "metadata": {
    "collapsed": false
   },
   "outputs": [],
   "source": []
  },
  {
   "cell_type": "code",
   "execution_count": null,
   "metadata": {
    "collapsed": true
   },
   "outputs": [],
   "source": []
  },
  {
   "cell_type": "code",
   "execution_count": null,
   "metadata": {
    "collapsed": true
   },
   "outputs": [],
   "source": []
  }
 ],
 "metadata": {
  "kernelspec": {
   "display_name": "Python 2",
   "language": "python",
   "name": "python2"
  },
  "language_info": {
   "codemirror_mode": {
    "name": "ipython",
    "version": 2
   },
   "file_extension": ".py",
   "mimetype": "text/x-python",
   "name": "python",
   "nbconvert_exporter": "python",
   "pygments_lexer": "ipython2",
   "version": "2.7.11"
  }
 },
 "nbformat": 4,
 "nbformat_minor": 0
}
