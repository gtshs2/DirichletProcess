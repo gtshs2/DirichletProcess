{
 "cells": [
  {
   "cell_type": "code",
   "execution_count": 19,
   "metadata": {
    "collapsed": false
   },
   "outputs": [
    {
     "data": {
      "image/png": "[encoded data removed]",
      "text/plain": [
       "<matplotlib.figure.Figure at 0xbdc9908>"
      ]
     },
     "metadata": {},
     "output_type": "display_data"
    }
   ],
   "source": [
    "# DP sampling with StickBreaking\n",
    "# Fully influenced by Yee Whye Teh (http://www.stats.ox.ac.uk/~teh/npbayes.html)\n",
    "\n",
    "import numpy as np\n",
    "import matplotlib.pyplot as plt\n",
    "%matplotlib inline\n",
    "\n",
    "alpha = 10\n",
    "num_partition = 100 # number of breaking the stick\n",
    "beta = np.random.beta(1,alpha,num_partition)\n",
    "modified_beta = np.cumprod(1-beta)\n",
    "# if beta = [0.9 , 0.8 , 0.7, ...] , modified_beta = [0.9 , 0.72 , 0.504 , ...]\n",
    "\n",
    "pi_list = [] # weight list , broken length list \n",
    "for itr in range(num_partition):\n",
    "    if itr == 0: # First breaking\n",
    "        temp_pi = beta[itr]\n",
    "    else: \n",
    "        temp_pi = beta[itr] * modified_beta[itr-1]\n",
    "    pi_list.append(temp_pi)\n",
    "\n",
    "plt.bar(np.linspace(0,num_partition,num=num_partition-1+1) , pi_list)\n",
    "plt.show()\n",
    " \n",
    "\n",
    "\n"
   ]
  },
  {
   "cell_type": "code",
   "execution_count": null,
   "metadata": {
    "collapsed": true
   },
   "outputs": [],
   "source": []
  }
 ],
 "metadata": {
  "kernelspec": {
   "display_name": "Python 2",
   "language": "python",
   "name": "python2"
  },
  "language_info": {
   "codemirror_mode": {
    "name": "ipython",
    "version": 2
   },
   "file_extension": ".py",
   "mimetype": "text/x-python",
   "name": "python",
   "nbconvert_exporter": "python",
   "pygments_lexer": "ipython2",
   "version": "2.7.10"
  }
 },
 "nbformat": 4,
 "nbformat_minor": 0
}
