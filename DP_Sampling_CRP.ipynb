{
 "cells": [
  {
   "cell_type": "code",
   "execution_count": 90,
   "metadata": {
    "collapsed": false
   },
   "outputs": [
    {
     "name": "stdout",
     "output_type": "stream",
     "text": [
      "[1, 10]\n",
      "[1, 1, 10]\n",
      "[1, 1, 1, 10]\n",
      "[2, 1, 1, 10]\n",
      "[3, 1, 1, 10]\n",
      "[3, 1, 1, 1, 10]\n",
      "[3, 1, 1, 1, 1, 10]\n",
      "[3, 1, 1, 1, 1, 1, 10]\n",
      "[3, 1, 1, 2, 1, 1, 10]\n",
      "[3, 1, 1, 2, 1, 1, 1, 10]\n",
      "[3, 1, 1, 2, 1, 1, 2, 10]\n",
      "[3, 1, 1, 2, 1, 1, 2, 1, 10]\n",
      "[4, 1, 1, 2, 1, 1, 2, 1, 10]\n",
      "[4, 1, 1, 2, 1, 1, 2, 2, 10]\n",
      "[4, 1, 1, 2, 1, 1, 2, 2, 1, 10]\n",
      "[4, 1, 1, 2, 1, 1, 2, 2, 1, 1, 10]\n",
      "[5, 1, 1, 2, 1, 1, 2, 2, 1, 1, 10]\n",
      "[6, 1, 1, 2, 1, 1, 2, 2, 1, 1, 10]\n",
      "[6, 1, 1, 2, 2, 1, 2, 2, 1, 1, 10]\n",
      "[6, 1, 1, 2, 2, 1, 2, 2, 1, 1, 1, 10]\n",
      "[7, 1, 1, 2, 2, 1, 2, 2, 1, 1, 1, 10]\n",
      "[7, 1, 1, 2, 2, 1, 2, 2, 1, 1, 1, 1, 10]\n",
      "[7, 1, 1, 2, 2, 1, 2, 3, 1, 1, 1, 1, 10]\n",
      "[7, 1, 1, 3, 2, 1, 2, 3, 1, 1, 1, 1, 10]\n",
      "[7, 1, 1, 3, 2, 1, 2, 4, 1, 1, 1, 1, 10]\n",
      "[7, 1, 1, 3, 2, 1, 2, 4, 1, 1, 1, 1, 1, 10]\n",
      "[7, 1, 1, 3, 2, 1, 2, 4, 1, 1, 1, 1, 1, 1, 10]\n",
      "[8, 1, 1, 3, 2, 1, 2, 4, 1, 1, 1, 1, 1, 1, 10]\n",
      "[9, 1, 1, 3, 2, 1, 2, 4, 1, 1, 1, 1, 1, 1, 10]\n",
      "[9, 1, 1, 4, 2, 1, 2, 4, 1, 1, 1, 1, 1, 1, 10]\n",
      "[9, 1, 1, 4, 2, 1, 2, 4, 1, 1, 1, 1, 1, 1, 1, 10]\n",
      "[9, 2, 1, 4, 2, 1, 2, 4, 1, 1, 1, 1, 1, 1, 1, 10]\n",
      "[10, 2, 1, 4, 2, 1, 2, 4, 1, 1, 1, 1, 1, 1, 1, 10]\n",
      "[10, 2, 1, 4, 2, 1, 2, 4, 1, 1, 1, 1, 1, 1, 2, 10]\n",
      "[10, 2, 1, 4, 2, 1, 2, 4, 1, 1, 1, 1, 1, 1, 2, 1, 10]\n",
      "[11, 2, 1, 4, 2, 1, 2, 4, 1, 1, 1, 1, 1, 1, 2, 1, 10]\n",
      "[11, 3, 1, 4, 2, 1, 2, 4, 1, 1, 1, 1, 1, 1, 2, 1, 10]\n",
      "[12, 3, 1, 4, 2, 1, 2, 4, 1, 1, 1, 1, 1, 1, 2, 1, 10]\n",
      "[12, 3, 1, 4, 2, 1, 2, 5, 1, 1, 1, 1, 1, 1, 2, 1, 10]\n",
      "[12, 3, 1, 4, 2, 1, 2, 5, 2, 1, 1, 1, 1, 1, 2, 1, 10]\n",
      "[12, 4, 1, 4, 2, 1, 2, 5, 2, 1, 1, 1, 1, 1, 2, 1, 10]\n",
      "[12, 4, 1, 4, 2, 1, 2, 5, 2, 1, 1, 1, 2, 1, 2, 1, 10]\n",
      "[13, 4, 1, 4, 2, 1, 2, 5, 2, 1, 1, 1, 2, 1, 2, 1, 10]\n",
      "[13, 4, 1, 4, 2, 1, 2, 5, 2, 1, 1, 1, 2, 2, 2, 1, 10]\n",
      "[13, 4, 1, 4, 2, 1, 2, 5, 2, 1, 1, 1, 2, 2, 2, 1, 1, 10]\n",
      "[14, 4, 1, 4, 2, 1, 2, 5, 2, 1, 1, 1, 2, 2, 2, 1, 1, 10]\n",
      "[14, 5, 1, 4, 2, 1, 2, 5, 2, 1, 1, 1, 2, 2, 2, 1, 1, 10]\n",
      "[14, 5, 1, 4, 3, 1, 2, 5, 2, 1, 1, 1, 2, 2, 2, 1, 1, 10]\n",
      "[15, 5, 1, 4, 3, 1, 2, 5, 2, 1, 1, 1, 2, 2, 2, 1, 1, 10]\n",
      "[15, 5, 1, 4, 3, 1, 2, 5, 2, 1, 1, 2, 2, 2, 2, 1, 1, 10]\n",
      "[15, 6, 1, 4, 3, 1, 2, 5, 2, 1, 1, 2, 2, 2, 2, 1, 1, 10]\n",
      "[16, 6, 1, 4, 3, 1, 2, 5, 2, 1, 1, 2, 2, 2, 2, 1, 1, 10]\n",
      "[16, 6, 1, 4, 4, 1, 2, 5, 2, 1, 1, 2, 2, 2, 2, 1, 1, 10]\n",
      "[16, 6, 1, 4, 4, 1, 2, 5, 2, 1, 1, 2, 2, 2, 2, 1, 1, 1, 10]\n",
      "[16, 6, 1, 4, 4, 1, 2, 5, 3, 1, 1, 2, 2, 2, 2, 1, 1, 1, 10]\n",
      "[17, 6, 1, 4, 4, 1, 2, 5, 3, 1, 1, 2, 2, 2, 2, 1, 1, 1, 10]\n",
      "[18, 6, 1, 4, 4, 1, 2, 5, 3, 1, 1, 2, 2, 2, 2, 1, 1, 1, 10]\n",
      "[18, 6, 1, 4, 4, 1, 2, 5, 3, 1, 1, 2, 2, 2, 2, 1, 2, 1, 10]\n",
      "[18, 7, 1, 4, 4, 1, 2, 5, 3, 1, 1, 2, 2, 2, 2, 1, 2, 1, 10]\n",
      "[18, 7, 1, 4, 4, 1, 2, 5, 3, 1, 1, 2, 2, 2, 2, 1, 2, 1, 1, 10]\n",
      "[18, 7, 2, 4, 4, 1, 2, 5, 3, 1, 1, 2, 2, 2, 2, 1, 2, 1, 1, 10]\n",
      "[18, 7, 2, 4, 4, 1, 2, 5, 3, 1, 1, 2, 2, 2, 2, 1, 2, 1, 1, 1, 10]\n",
      "[18, 7, 2, 4, 4, 1, 2, 5, 3, 1, 1, 2, 2, 2, 2, 1, 2, 1, 2, 1, 10]\n",
      "[18, 7, 2, 4, 4, 1, 2, 5, 3, 1, 1, 2, 2, 2, 2, 1, 2, 2, 2, 1, 10]\n",
      "[19, 7, 2, 4, 4, 1, 2, 5, 3, 1, 1, 2, 2, 2, 2, 1, 2, 2, 2, 1, 10]\n",
      "[19, 7, 2, 4, 4, 1, 2, 6, 3, 1, 1, 2, 2, 2, 2, 1, 2, 2, 2, 1, 10]\n",
      "[20, 7, 2, 4, 4, 1, 2, 6, 3, 1, 1, 2, 2, 2, 2, 1, 2, 2, 2, 1, 10]\n",
      "[20, 7, 2, 4, 4, 2, 2, 6, 3, 1, 1, 2, 2, 2, 2, 1, 2, 2, 2, 1, 10]\n",
      "[20, 7, 2, 4, 4, 2, 2, 6, 3, 1, 1, 2, 2, 2, 2, 1, 2, 3, 2, 1, 10]\n",
      "[21, 7, 2, 4, 4, 2, 2, 6, 3, 1, 1, 2, 2, 2, 2, 1, 2, 3, 2, 1, 10]\n",
      "[22, 7, 2, 4, 4, 2, 2, 6, 3, 1, 1, 2, 2, 2, 2, 1, 2, 3, 2, 1, 10]\n",
      "[22, 7, 2, 4, 4, 2, 2, 6, 3, 1, 1, 2, 2, 2, 2, 1, 2, 4, 2, 1, 10]\n",
      "[23, 7, 2, 4, 4, 2, 2, 6, 3, 1, 1, 2, 2, 2, 2, 1, 2, 4, 2, 1, 10]\n",
      "[23, 7, 2, 4, 4, 2, 2, 7, 3, 1, 1, 2, 2, 2, 2, 1, 2, 4, 2, 1, 10]\n",
      "[23, 7, 2, 4, 4, 2, 2, 7, 3, 1, 1, 2, 2, 2, 2, 1, 2, 4, 2, 1, 1, 10]\n",
      "[24, 7, 2, 4, 4, 2, 2, 7, 3, 1, 1, 2, 2, 2, 2, 1, 2, 4, 2, 1, 1, 10]\n",
      "[25, 7, 2, 4, 4, 2, 2, 7, 3, 1, 1, 2, 2, 2, 2, 1, 2, 4, 2, 1, 1, 10]\n",
      "[25, 7, 3, 4, 4, 2, 2, 7, 3, 1, 1, 2, 2, 2, 2, 1, 2, 4, 2, 1, 1, 10]\n",
      "[25, 7, 3, 4, 4, 2, 2, 7, 3, 1, 1, 2, 2, 2, 2, 1, 2, 5, 2, 1, 1, 10]\n",
      "[26, 7, 3, 4, 4, 2, 2, 7, 3, 1, 1, 2, 2, 2, 2, 1, 2, 5, 2, 1, 1, 10]\n",
      "[26, 7, 4, 4, 4, 2, 2, 7, 3, 1, 1, 2, 2, 2, 2, 1, 2, 5, 2, 1, 1, 10]\n",
      "[27, 7, 4, 4, 4, 2, 2, 7, 3, 1, 1, 2, 2, 2, 2, 1, 2, 5, 2, 1, 1, 10]\n",
      "[28, 7, 4, 4, 4, 2, 2, 7, 3, 1, 1, 2, 2, 2, 2, 1, 2, 5, 2, 1, 1, 10]\n",
      "[28, 7, 4, 4, 4, 2, 2, 7, 3, 1, 1, 2, 2, 2, 2, 1, 2, 5, 2, 1, 1, 1, 10]\n",
      "[28, 7, 5, 4, 4, 2, 2, 7, 3, 1, 1, 2, 2, 2, 2, 1, 2, 5, 2, 1, 1, 1, 10]\n",
      "[28, 7, 5, 4, 4, 2, 2, 7, 3, 1, 1, 2, 2, 2, 2, 1, 2, 5, 2, 1, 1, 1, 1, 10]\n",
      "[29, 7, 5, 4, 4, 2, 2, 7, 3, 1, 1, 2, 2, 2, 2, 1, 2, 5, 2, 1, 1, 1, 1, 10]\n",
      "[29, 7, 5, 4, 4, 2, 2, 7, 3, 1, 1, 2, 2, 2, 2, 1, 2, 6, 2, 1, 1, 1, 1, 10]\n",
      "[29, 7, 5, 4, 4, 2, 2, 7, 3, 1, 1, 2, 2, 2, 2, 1, 2, 6, 2, 1, 1, 1, 1, 1, 10]\n",
      "[30, 7, 5, 4, 4, 2, 2, 7, 3, 1, 1, 2, 2, 2, 2, 1, 2, 6, 2, 1, 1, 1, 1, 1, 10]\n",
      "[30, 7, 5, 4, 4, 2, 2, 7, 3, 1, 1, 2, 2, 2, 2, 1, 2, 6, 2, 1, 1, 1, 1, 1, 1, 10]\n",
      "[30, 7, 5, 4, 4, 2, 3, 7, 3, 1, 1, 2, 2, 2, 2, 1, 2, 6, 2, 1, 1, 1, 1, 1, 1, 10]\n",
      "[30, 7, 5, 4, 4, 2, 4, 7, 3, 1, 1, 2, 2, 2, 2, 1, 2, 6, 2, 1, 1, 1, 1, 1, 1, 10]\n",
      "[30, 7, 5, 4, 4, 2, 4, 7, 3, 2, 1, 2, 2, 2, 2, 1, 2, 6, 2, 1, 1, 1, 1, 1, 1, 10]\n",
      "[30, 7, 5, 4, 4, 3, 4, 7, 3, 2, 1, 2, 2, 2, 2, 1, 2, 6, 2, 1, 1, 1, 1, 1, 1, 10]\n",
      "[30, 7, 5, 4, 4, 3, 5, 7, 3, 2, 1, 2, 2, 2, 2, 1, 2, 6, 2, 1, 1, 1, 1, 1, 1, 10]\n",
      "[30, 7, 5, 4, 4, 3, 5, 7, 3, 2, 1, 2, 2, 2, 2, 1, 2, 6, 2, 1, 1, 1, 1, 1, 1, 1, 10]\n",
      "[31, 7, 5, 4, 4, 3, 5, 7, 3, 2, 1, 2, 2, 2, 2, 1, 2, 6, 2, 1, 1, 1, 1, 1, 1, 1, 10]\n",
      "[31, 8, 5, 4, 4, 3, 5, 7, 3, 2, 1, 2, 2, 2, 2, 1, 2, 6, 2, 1, 1, 1, 1, 1, 1, 1, 10]\n"
     ]
    },
    {
     "data": {
      "image/png": "[encoded data removed]",
      "text/plain": [
       "<matplotlib.figure.Figure at 0x10d02588>"
      ]
     },
     "metadata": {},
     "output_type": "display_data"
    }
   ],
   "source": [
    "# DP sampling with CRP\n",
    "# Fully influenced by Yee Whye Teh (http://www.stats.ox.ac.uk/~teh/npbayes.html)\n",
    "\n",
    "import numpy as np\n",
    "import matplotlib.pyplot as plt\n",
    "import os\n",
    "%matplotlib inline\n",
    "\n",
    "alpha = 10 # DP Parameter\n",
    "discount = 0 # if Discount > 0 , Generate new table more\n",
    "num_guest = 100 # Number of Guest at Chinese Restaurnat\n",
    "\n",
    "num_per_table = [1] # number of customer for each table\n",
    "prob_per_guest = [] # probability of cutomer to sit for each able\n",
    "guest_allocation = np.zeros(num_guest) # allocated table for each guest\n",
    "guest_allocation[0] = 1 # First Customer sit at zero-th Table\n",
    "num_allocated_table = np.zeros(num_guest) # number of table when i-th guest arrive and are allocated\n",
    "num_allocated_table[0] = 1 # First Customer sit at zero-th Table\n",
    "num_table = 0 # allocated table\n",
    "\n",
    "for guest in range(1,num_guest):\n",
    "    prob_per_guest = num_per_table[:]\n",
    "    prob_per_guest.append(alpha)\n",
    "    print prob_per_guest\n",
    "    random_number = np.random.uniform(0,1)\n",
    "    # Sampling based on the probaiblity [number of guest for each table , alpha]\n",
    "    guest_allocation[guest] = sum([1 for itr in range(len(np.cumsum(prob_per_guest))) if  random_number*sum(prob_per_guest) > np.cumsum(prob_per_guest)[itr] ])\n",
    "\n",
    "    if guest_allocation[guest] <=  num_table:\n",
    "        num_per_table[int(guest_allocation[guest])] = num_per_table[int(guest_allocation[guest])] + 1\n",
    "    else:\n",
    "        num_per_table.append(1)\n",
    "        num_table = num_table + 1\n",
    "    num_allocated_table[guest] = num_table\n",
    "\n",
    "plt.plot(num_allocated_table)\n",
    "plt.scatter(np.linspace(0,num_guest,num=num_guest-1+1),guest_allocation)\n",
    "plt.show()\n",
    "        \n",
    "    \n",
    "    "
   ]
  },
  {
   "cell_type": "code",
   "execution_count": 70,
   "metadata": {
    "collapsed": false
   },
   "outputs": [
    {
     "name": "stdout",
     "output_type": "stream",
     "text": [
      "[  0.   1.   2.   3.   4.   5.   6.   7.   8.   9.  10.]\n"
     ]
    }
   ],
   "source": [
    "print np.linspace(0,10,num=10-0+1)\n"
   ]
  },
  {
   "cell_type": "code",
   "execution_count": null,
   "metadata": {
    "collapsed": false
   },
   "outputs": [],
   "source": []
  },
  {
   "cell_type": "code",
   "execution_count": null,
   "metadata": {
    "collapsed": true
   },
   "outputs": [],
   "source": []
  },
  {
   "cell_type": "code",
   "execution_count": null,
   "metadata": {
    "collapsed": true
   },
   "outputs": [],
   "source": []
  }
 ],
 "metadata": {
  "kernelspec": {
   "display_name": "Python 2",
   "language": "python",
   "name": "python2"
  },
  "language_info": {
   "codemirror_mode": {
    "name": "ipython",
    "version": 2
   },
   "file_extension": ".py",
   "mimetype": "text/x-python",
   "name": "python",
   "nbconvert_exporter": "python",
   "pygments_lexer": "ipython2",
   "version": "2.7.10"
  }
 },
 "nbformat": 4,
 "nbformat_minor": 0
}
