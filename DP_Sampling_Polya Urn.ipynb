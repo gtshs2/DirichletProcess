{
 "cells": [
  {
   "cell_type": "code",
   "execution_count": 32,
   "metadata": {
    "collapsed": false
   },
   "outputs": [
    {
     "data": {
      "image/png": "[encoded data removed]",
      "text/plain": [
       "<matplotlib.figure.Figure at 0x40a1198>"
      ]
     },
     "metadata": {},
     "output_type": "display_data"
    }
   ],
   "source": [
    "# DP sampling with Polya Urn\n",
    "\n",
    "import numpy as np\n",
    "import matplotlib.pyplot as plt\n",
    "import os\n",
    "%matplotlib inline\n",
    "\n",
    "alpha = 10 # DP Parameter\n",
    "num_ball = 1000 # Number of conduct : Draw a ball from a polya urn\n",
    "base_distribution = 'normal'\n",
    "if base_distribution == 'normal':\n",
    "    mu = 0\n",
    "    sigma = 1\n",
    "    ball_color = np.random.normal(0,1,num_ball)\n",
    "ball_dict = dict() # allocated color for each ball\n",
    "urn = [] # number of ball for each color in urn\n",
    "prob_color = [] # probability of drawing a color\n",
    "unique_color = [] # unique color among already drawn balls\n",
    "for itr in range(num_ball):\n",
    "    if itr == 0:\n",
    "        ball_dict[itr] = ball_color[itr] # matching between ball color and normal generated ball value\n",
    "        urn.append(1) # Put a 0-th ball into urn\n",
    "        unique_color.append(ball_color[itr])\n",
    "        continue\n",
    "    prob_color = urn[:]\n",
    "    prob_color.append(alpha)\n",
    "    random_number = np.random.uniform(0,1)\n",
    "    lottery = sum([1 for itr in range(len(np.cumsum(prob_color))) if  random_number*sum(prob_color) > np.cumsum(prob_color)[itr]])\n",
    "    if lottery > len(unique_color)-1: #len(urn) : number of unique color / Draw a color from base distribution H\n",
    "        ball_dict[itr] = ball_color[itr]\n",
    "        if ball_color[itr] in unique_color: # Draw color from base distribution H, but if the color in urn already.....\n",
    "            # Because we draw ball from base distribution, Normal(Continuous) , this loop condition will be very rarely satisfied \n",
    "            urn[unique_color.index(ball_color[itr])] = urn[unique_color.index(ball_color[itr])] + 1\n",
    "        else: # Draw color from base distribution H, and if the color is not in urn.....\n",
    "            urn.append(1)\n",
    "            unique_color.append(ball_color[itr])\n",
    "    else:\n",
    "        ball_dict[itr] = unique_color[lottery]\n",
    "        urn[lottery] = urn[lottery] + 1\n",
    "\n",
    "# Plotting , x-axis : i-th unique color / y-axis : number of balls which has i-th unique color \n",
    "N = len(unique_color)\n",
    "colors = np.random.rand(N)\n",
    "plt.scatter(np.linspace(0,N,num=N-1+1), urn, c=colors, alpha=0.5)\n",
    "plt.show()"
   ]
  },
  {
   "cell_type": "code",
   "execution_count": null,
   "metadata": {
    "collapsed": true
   },
   "outputs": [],
   "source": []
  }
 ],
 "metadata": {
  "kernelspec": {
   "display_name": "Python 2",
   "language": "python",
   "name": "python2"
  },
  "language_info": {
   "codemirror_mode": {
    "name": "ipython",
    "version": 2
   },
   "file_extension": ".py",
   "mimetype": "text/x-python",
   "name": "python",
   "nbconvert_exporter": "python",
   "pygments_lexer": "ipython2",
   "version": "2.7.10"
  }
 },
 "nbformat": 4,
 "nbformat_minor": 0
}
